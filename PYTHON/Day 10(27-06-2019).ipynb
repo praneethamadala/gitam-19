{
 "cells": [
  {
   "cell_type": "markdown",
   "metadata": {},
   "source": [
    "## File handling in python\n",
    "\n",
    "  File:-Document containing information residing on the permanent storage types -- Doc,pdf,Text,csv Files etc.\n",
    " \n",
    "  File I/o : Input and output\n",
    " \n",
    " "
   ]
  },
  {
   "cell_type": "markdown",
   "metadata": {},
   "source": [
    "## Examples:-\n",
    "## Function to create a file and write some data"
   ]
  },
  {
   "cell_type": "code",
   "execution_count": 1,
   "metadata": {},
   "outputs": [
    {
     "name": "stdout",
     "output_type": "stream",
     "text": [
      "File is created successfully and Data is Written\n"
     ]
    }
   ],
   "source": [
    "def createFile(filename):\n",
    "    f=open(filename,\"w\")\n",
    "    for i in range(10):\n",
    "        f.write(\"This is %d Line\\n\"% i)\n",
    "    print(\"File is created successfully and Data is Written\")\n",
    "    f.close()\n",
    "    return\n",
    "createFile(\"file1.txt\")"
   ]
  },
  {
   "cell_type": "markdown",
   "metadata": {},
   "source": [
    "## Function for reading the file data"
   ]
  },
  {
   "cell_type": "code",
   "execution_count": 2,
   "metadata": {},
   "outputs": [
    {
     "name": "stdout",
     "output_type": "stream",
     "text": [
      "This is 0 Line\n",
      "This is 1 Line\n",
      "This is 2 Line\n",
      "This is 3 Line\n",
      "This is 4 Line\n",
      "This is 5 Line\n",
      "This is 6 Line\n",
      "This is 7 Line\n",
      "This is 8 Line\n",
      "This is 9 Line\n",
      "\n"
     ]
    }
   ],
   "source": [
    "def readFile(filename):\n",
    "    f=open(filename,\"r\")\n",
    "    if f.mode=='r':\n",
    "        x=f.read()\n",
    "        print(x)\n",
    "    f.close()\n",
    "    return\n",
    "\n",
    "readFile(\"File1.txt\")\n",
    "        "
   ]
  },
  {
   "cell_type": "code",
   "execution_count": 6,
   "metadata": {},
   "outputs": [],
   "source": [
    "# Data to append\n",
    "# Function to append the data to existing file\n",
    "def appendData(filename):\n",
    "    f=open(filename,\"a\")\n",
    "    f.write(\"New line 1\\n\")\n",
    "    f.write(\"New line\")\n",
    "    f.close()\n",
    "    return\n",
    "appendData(\"file1.txt\")"
   ]
  },
  {
   "cell_type": "code",
   "execution_count": 10,
   "metadata": {},
   "outputs": [
    {
     "name": "stdout",
     "output_type": "stream",
     "text": [
      " Volume in drive C is Windows\n",
      " Volume Serial Number is 68CE-EE14\n",
      "\n",
      " Directory of C:\\Users\\Vinay\n",
      "\n",
      "27-Jun-19  10:52 AM    <DIR>          .\n",
      "27-Jun-19  10:52 AM    <DIR>          ..\n",
      "25-Jun-19  03:15 PM                81 .bash_history\n",
      "19-Jun-19  03:32 PM                62 .gitconfig\n",
      "27-Jun-19  10:48 AM    <DIR>          .ipynb_checkpoints\n",
      "21-Jun-19  03:43 PM    <DIR>          .ipython\n",
      "21-Jun-19  04:26 PM    <DIR>          .jupyter\n",
      "26-Jun-19  10:27 AM             9,253 22-06-2019.ipynb\n",
      "16-Jun-19  08:16 AM    <DIR>          3D Objects\n",
      "21-Jun-19  03:39 PM    <DIR>          Anaconda3\n",
      "16-Jun-19  08:16 AM    <DIR>          Contacts\n",
      "27-Jun-19  10:52 AM             5,493 Day 10(27-06-2019).ipynb\n",
      "26-Jun-19  05:07 PM    <DIR>          Desktop\n",
      "21-Jun-19  03:39 PM    <DIR>          Documents\n",
      "26-Jun-19  04:23 PM    <DIR>          Downloads\n",
      "16-Jun-19  08:16 AM    <DIR>          Favorites\n",
      "27-Jun-19  10:51 AM               220 file1.txt\n",
      "19-Jun-19  02:10 PM    <DIR>          Gitam-June-2019\n",
      "16-Jun-19  08:16 AM    <DIR>          Links\n",
      "16-Jun-19  08:16 AM    <DIR>          Music\n",
      "12-Jun-19  02:53 PM    <DIR>          OneDrive\n",
      "16-Jun-19  08:16 AM    <DIR>          Pictures\n",
      "26-Jun-19  05:03 PM    <DIR>          PYTHON 1\n",
      "29-May-17  05:33 PM    <DIR>          Roaming\n",
      "16-Jun-19  08:16 AM    <DIR>          Saved Games\n",
      "16-Jun-19  08:16 AM    <DIR>          Searches\n",
      "16-Jun-19  08:16 AM    <DIR>          Videos\n",
      "               5 File(s)         15,109 bytes\n",
      "              22 Dir(s)  412,498,419,712 bytes free\n"
     ]
    }
   ],
   "source": [
    "ls"
   ]
  },
  {
   "cell_type": "code",
   "execution_count": 27,
   "metadata": {},
   "outputs": [
    {
     "name": "stdout",
     "output_type": "stream",
     "text": [
      "10\n"
     ]
    }
   ],
   "source": [
    "#Word count using File I/o python\n",
    "def dataAnalysisWordCount(filename,word):\n",
    "    f=open(filename,\"r\")\n",
    "    if f.mode==\"r\":\n",
    "        x=f.read()\n",
    "        lst=x.split()\n",
    "    count=lst.count(word)\n",
    "    return count\n",
    "print(dataAnalysisWordCount(\"file1.txt\",\"This\"))"
   ]
  },
  {
   "cell_type": "code",
   "execution_count": 38,
   "metadata": {},
   "outputs": [
    {
     "name": "stdout",
     "output_type": "stream",
     "text": [
      "207\n"
     ]
    }
   ],
   "source": [
    "# Function to count characters in the file\n",
    "def countCharacter(filename):\n",
    "    f = open(filename,\"r\")\n",
    "    if f.mode == \"r\":\n",
    "        x = f.read()\n",
    "        lst = list(x)\n",
    "    return len(lst)\n",
    "print(countCharacter(\"file1.txt\"))"
   ]
  },
  {
   "cell_type": "code",
   "execution_count": 45,
   "metadata": {},
   "outputs": [
    {
     "name": "stdout",
     "output_type": "stream",
     "text": [
      "26\n"
     ]
    }
   ],
   "source": [
    "# Function to count the upper case character from the given file\n",
    "def countUpperCaseCharacter(filename):\n",
    "    countUpper=0\n",
    "    f = open(filename,\"r\")\n",
    "    if f.mode == \"r\":\n",
    "        x = f.read()\n",
    "        lst=list(x)\n",
    "    for i in lst:\n",
    "        if i.isupper():\n",
    "            countUpper +=1\n",
    "        \n",
    "    return countUpper\n",
    "print(countUpperCaseCharacter(\"file1.txt\"))"
   ]
  },
  {
   "cell_type": "code",
   "execution_count": 76,
   "metadata": {},
   "outputs": [
    {
     "data": {
      "text/plain": [
       "14"
      ]
     },
     "execution_count": 76,
     "metadata": {},
     "output_type": "execute_result"
    }
   ],
   "source": [
    "# Function to count of Lines in given file\n",
    "def countOfLines(filename):\n",
    "    f = open(filename,\"r\")\n",
    "    if f.mode == \"r\":\n",
    "        x = f.read()\n",
    "        lst=x.split(\"\\n\")\n",
    "    return len(lst)   \n",
    "countOfLines(\"file1.txt\")        "
   ]
  },
  {
   "cell_type": "markdown",
   "metadata": {},
   "source": [
    "### Regular Expressions\n",
    "*Pattern Matching\n",
    "*symbolic Notation of a pattern\n",
    "  *pattern(RE) represents the set of the values that a given pattern\n",
    "* (0-9) ---> Any Digit\n",
    "* (a-z) ---> Any lower case characters\n",
    "* (A-Z) ---> Any upper case characters\n",
    "* (2468) --> All the single digit number\n",
    "* ^(0-9){1}$ --> only single digit number\n",
    "   **cap symbol is used for start of regular expression\n",
    "   **Dollar symbol is used to end of the regular expression\n",
    "*  ^(0-9){3}$ --->Regular expression will accept only three digit number\n",
    "* ^(a-z){5}$ --->It only accepts the 5 character string that to lower case characters\n",
    "* ^"
   ]
  },
  {
   "cell_type": "code",
   "execution_count": 48,
   "metadata": {},
   "outputs": [],
   "source": [
    "# Regular Expression for Indian Mobile Number\n",
    "# Validation for EmailID username@DomainName.extension\n",
    "# 9381067301 --->first digit of [6-9][0-9]\n",
    "# 09874563210 --->First digit zero second digit[6-9] Last 9 digits[0-9]\n",
    "# +919876541230 -->first + sign"
   ]
  },
  {
   "cell_type": "code",
   "execution_count": 60,
   "metadata": {},
   "outputs": [
    {
     "name": "stdout",
     "output_type": "stream",
     "text": [
      "True\n",
      "False\n"
     ]
    }
   ],
   "source": [
    "import re\n",
    "def phoneNumberValidate(phone):\n",
    "    pattern = '^[6-9][0-9]{9}$'\n",
    "    phone=str(phone)\n",
    "    if re.match(pattern,phone):\n",
    "        return True\n",
    "    return False\n",
    "print(phoneNumberValidate(9381067301))\n",
    "print(phoneNumberValidate(93810546))"
   ]
  },
  {
   "cell_type": "code",
   "execution_count": 63,
   "metadata": {},
   "outputs": [
    {
     "name": "stdout",
     "output_type": "stream",
     "text": [
      "True\n",
      "False\n"
     ]
    }
   ],
   "source": [
    "import re\n",
    "def phoneNumberValidate(phone):\n",
    "    pattern = '^[6-9][0-9]{9}$|^[0][6-9][0-9]{9}$|[+][9][1][6-9][0-9]{9}$'\n",
    "    phone=str(phone)\n",
    "    if re.match(pattern,phone):\n",
    "        return True\n",
    "    return False\n",
    "print(phoneNumberValidate(\"09881067301\"))\n",
    "print(phoneNumberValidate(\"93810546\"))"
   ]
  },
  {
   "cell_type": "code",
   "execution_count": 64,
   "metadata": {},
   "outputs": [],
   "source": [
    "# RE -- validation of Roll number\n",
    "### 152U1A0501"
   ]
  },
  {
   "cell_type": "code",
   "execution_count": 66,
   "metadata": {},
   "outputs": [
    {
     "name": "stdout",
     "output_type": "stream",
     "text": [
      "True\n",
      "False\n"
     ]
    }
   ],
   "source": [
    "import re\n",
    "def validateRollNumber(number):\n",
    "    number = str(number)\n",
    "    pattern = \"^[1][5][2][U][1][A][0][1-9][0-6][0-9]$\";\n",
    "    if re.match(pattern,number):\n",
    "        return True\n",
    "    return False\n",
    "print(validateRollNumber(\"152U1A0555\"))\n",
    "print(validateRollNumber(\"152U1A0485\"))"
   ]
  },
  {
   "cell_type": "markdown",
   "metadata": {},
   "source": [
    "# Validation for EmailID username@DomainName.extension\n",
    "**username:\n",
    "    \n",
    "             *length will be :[6-15]\n",
    "             *no spl chars aprt from _\n",
    "             *should not begin and end with _\n",
    "             *character set: all digits and lower case alphabet_\n",
    "\n",
    "*Domain name:\n",
    "    \n",
    "             *length of domain:[3,18]\n",
    "             *no spl characters\n",
    "             *character set:all digits and lower case alphabets\n",
    "                \n",
    "*Extension:\n",
    "    \n",
    "            *length of extension:[2,4]\n",
    "            *no spl characters\n",
    "            *character set:lower case characters\n",
    "            "
   ]
  },
  {
   "cell_type": "code",
   "execution_count": 73,
   "metadata": {},
   "outputs": [
    {
     "name": "stdout",
     "output_type": "stream",
     "text": [
      "True\n",
      "True\n"
     ]
    }
   ],
   "source": [
    "def validateEmailID(email):\n",
    "    pattern=\"^[0-9a-z][0-9a-z_.]{4,13}[0-9a-z][@][a-z0-9]{3,18}[.][a-z]{2,4}$\"\n",
    "    if re.match(pattern,email):\n",
    "        return True\n",
    "    return False\n",
    "print(validateEmailID(\"221810304066@gmail.com\"))\n",
    "print(validateEmailID(\"praneetha01@gmail.com\"))\n"
   ]
  },
  {
   "cell_type": "markdown",
   "metadata": {},
   "source": [
    "## Regular Expression -- password\n",
    "# parameters: [6-15]\n",
    "# Accept lower case ,uppercase,spl symbols(@,$,#,!)\n"
   ]
  },
  {
   "cell_type": "code",
   "execution_count": 84,
   "metadata": {},
   "outputs": [],
   "source": [
    "import re\n",
    "def validatePassword(s):\n",
    "    pattern = \"^\""
   ]
  },
  {
   "cell_type": "code",
   "execution_count": 86,
   "metadata": {},
   "outputs": [
    {
     "name": "stdout",
     "output_type": "stream",
     "text": [
      "File is created successfully and Data is Written\n"
     ]
    }
   ],
   "source": [
    "# File on the virtual machine or local machine\n",
    "def createFile(filename):\n",
    "    f=open(filename,\"w\")\n",
    "    for i in range(5):\n",
    "        f.write(\"This is %d Line\\n\"% i)\n",
    "    print(\"File is created successfully and Data is Written\")\n",
    "    f.close()\n",
    "    return\n",
    "createFile(\"file2.txt\")"
   ]
  },
  {
   "cell_type": "code",
   "execution_count": 89,
   "metadata": {},
   "outputs": [
    {
     "name": "stdout",
     "output_type": "stream",
     "text": [
      "This is 0 Line\n",
      "This is 1 Line\n",
      "This is 2 Line\n",
      "This is 3 Line\n",
      "This is 4 Line\n",
      "\n"
     ]
    }
   ],
   "source": [
    "# Need to write the data to the file\n",
    "def readFile(filename):\n",
    "    f=open(filename,\"r\")\n",
    "    if f.mode=='r':\n",
    "        x=f.read()\n",
    "        print(x)\n",
    "    f.close()\n",
    "    return\n",
    "\n",
    "readFile(\"File2.txt\")\n",
    "        "
   ]
  },
  {
   "cell_type": "code",
   "execution_count": 88,
   "metadata": {},
   "outputs": [
    {
     "name": "stdout",
     "output_type": "stream",
     "text": [
      "116\n"
     ]
    }
   ],
   "source": [
    "# Function to count the lower case character from the given file\n",
    "def countLowerCaseCharacter(filename):\n",
    "    countLower=0\n",
    "    f = open(filename,\"r\")\n",
    "    if f.mode == \"r\":\n",
    "        x = f.read()\n",
    "        lst=list(x)\n",
    "    for i in lst:\n",
    "        if i.islower():\n",
    "            countLower +=1\n",
    "        \n",
    "    return countLower\n",
    "print(countLowerCaseCharacter(\"file1.txt\"))"
   ]
  },
  {
   "cell_type": "code",
   "execution_count": null,
   "metadata": {},
   "outputs": [],
   "source": [
    "\n",
    "    "
   ]
  }
 ],
 "metadata": {
  "kernelspec": {
   "display_name": "Python 3",
   "language": "python",
   "name": "python3"
  },
  "language_info": {
   "codemirror_mode": {
    "name": "ipython",
    "version": 3
   },
   "file_extension": ".py",
   "mimetype": "text/x-python",
   "name": "python",
   "nbconvert_exporter": "python",
   "pygments_lexer": "ipython3",
   "version": "3.7.3"
  }
 },
 "nbformat": 4,
 "nbformat_minor": 2
}
