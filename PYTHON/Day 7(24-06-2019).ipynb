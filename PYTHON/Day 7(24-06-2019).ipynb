{
 "cells": [
  {
   "cell_type": "code",
   "execution_count": 1,
   "metadata": {},
   "outputs": [
    {
     "name": "stdout",
     "output_type": "stream",
     "text": [
      "90\n"
     ]
    }
   ],
   "source": [
    "def printEven(n):\n",
    "    cnt=0;\n",
    "    sum=0;\n",
    "    while(cnt!=n):\n",
    "         if(cnt%2==0):\n",
    "            sum=sum+cnt;\n",
    "         cnt=cnt+1;\n",
    "    return sum;\n",
    "print(printEven(20));"
   ]
  },
  {
   "cell_type": "code",
   "execution_count": 2,
   "metadata": {},
   "outputs": [
    {
     "name": "stdout",
     "output_type": "stream",
     "text": [
      "1 2 3 4 6 "
     ]
    }
   ],
   "source": [
    "def factorList(n):\n",
    "    i=1;\n",
    "    while(i!=n):\n",
    "        if(n%i==0):\n",
    "            print(i,end=\" \");\n",
    "        i=i+1;\n",
    "    return ;\n",
    "factorList(12);\n",
    "\n",
    "    "
   ]
  },
  {
   "cell_type": "code",
   "execution_count": 1,
   "metadata": {},
   "outputs": [
    {
     "name": "stdout",
     "output_type": "stream",
     "text": [
      "[1, 2, 3, 4]\n"
     ]
    }
   ],
   "source": [
    "list1=[1,2,3,4];\n",
    "print(list1);"
   ]
  },
  {
   "cell_type": "code",
   "execution_count": 6,
   "metadata": {},
   "outputs": [
    {
     "name": "stdout",
     "output_type": "stream",
     "text": [
      "[1, 2, 3, 4, 5]\n",
      "1\n"
     ]
    }
   ],
   "source": [
    "list1=[1,2,3,4,5];\n",
    "#Enter list\n",
    "print(list1);\n",
    "#list[0]\n",
    "print(list1[0]);"
   ]
  },
  {
   "cell_type": "code",
   "execution_count": 13,
   "metadata": {},
   "outputs": [
    {
     "name": "stdout",
     "output_type": "stream",
     "text": [
      "Arvind Anush "
     ]
    }
   ],
   "source": [
    "list2=[\"Arvind\",\"Anush\"]\n",
    "for x in list2:\n",
    "    print(x,end=\" \")"
   ]
  },
  {
   "cell_type": "code",
   "execution_count": 18,
   "metadata": {},
   "outputs": [
    {
     "name": "stdout",
     "output_type": "stream",
     "text": [
      "1 2 3 4 5 6 7 8 \n",
      "5\n",
      "[4, 5, 6, 7]\n"
     ]
    }
   ],
   "source": [
    "list1=[1,2,3,4,5,6,7,8]\n",
    "for x in list1:\n",
    "    print(x,end=\" \")\n",
    "print();\n",
    "print(list1[4]);\n",
    "print(list1[3:7]);"
   ]
  },
  {
   "cell_type": "code",
   "execution_count": 41,
   "metadata": {},
   "outputs": [
    {
     "name": "stdout",
     "output_type": "stream",
     "text": [
      "12345678910\n",
      "[2, 3, 4, 5, 6, 7, 8, 9]\n",
      "[3, 4, 5, 6, 7, 8]\n",
      "[4, 5, 6, 7]\n",
      "[5, 6]\n",
      "[]\n",
      "[1, 3, 5, 7, 9]\n",
      "[1, 4, 7, 10]\n",
      "[1, 5, 9]\n",
      "[1, 6]\n",
      "[10, 8, 6, 4, 2]\n",
      "[10, 7, 4, 1]\n",
      "[10, 6, 2]\n",
      "[10, 5]\n",
      "10\n",
      "9\n",
      "8\n",
      "7\n",
      "6\n",
      "5\n",
      "4\n",
      "3\n",
      "2\n",
      "1\n"
     ]
    }
   ],
   "source": [
    "list1=[1,2,3,4,5,6,7,8,9,10]\n",
    "for x in list1:\n",
    "    print(x,end=\"\");\n",
    "    \n",
    "print();\n",
    "print(list1[1:-1]);\n",
    "print(list1[2:-2]);\n",
    "print(list1[3:-3]);\n",
    "print(list1[4:-4]);\n",
    "print(list1[5:-5]);\n",
    "print(list1[::2]);\n",
    "print(list1[::3]);\n",
    "print(list1[::4]);\n",
    "print(list1[::5]);\n",
    "print(list1[::-2]);\n",
    "print(list1[::-3]);\n",
    "print(list1[::-4]);\n",
    "print(list1[::-5]);\n",
    "print(list1[-1]);\n",
    "print(list1[-2]);\n",
    "print(list1[-3]);\n",
    "print(list1[-4]);\n",
    "print(list1[-5]);\n",
    "print(list1[-6]);\n",
    "print(list1[-7]);\n",
    "print(list1[-8]);\n",
    "print(list1[-9]);\n",
    "print(list1[-10]);"
   ]
  },
  {
   "cell_type": "code",
   "execution_count": 46,
   "metadata": {},
   "outputs": [
    {
     "name": "stdout",
     "output_type": "stream",
     "text": [
      "['Arvind', 'Anush', 'Nitin', 'Rishi']\n",
      "['Arvind', 'Anush', 15, 'Rishi']\n",
      "['Arvind', 'Anush', 15]\n",
      "GITAM\n",
      "[1, 2, 3]\n"
     ]
    },
    {
     "ename": "TypeError",
     "evalue": "can only concatenate str (not \"list\") to str",
     "output_type": "error",
     "traceback": [
      "\u001b[1;31m---------------------------------------------------------------------------\u001b[0m",
      "\u001b[1;31mTypeError\u001b[0m                                 Traceback (most recent call last)",
      "\u001b[1;32m<ipython-input-46-551cdae2e6fe>\u001b[0m in \u001b[0;36m<module>\u001b[1;34m\u001b[0m\n\u001b[0;32m      9\u001b[0m \u001b[0mlist2\u001b[0m\u001b[1;33m=\u001b[0m\u001b[1;33m[\u001b[0m\u001b[1;36m1\u001b[0m\u001b[1;33m,\u001b[0m\u001b[1;36m2\u001b[0m\u001b[1;33m,\u001b[0m\u001b[1;36m3\u001b[0m\u001b[1;33m]\u001b[0m\u001b[1;33m;\u001b[0m\u001b[1;33m\u001b[0m\u001b[1;33m\u001b[0m\u001b[0m\n\u001b[0;32m     10\u001b[0m \u001b[0mprint\u001b[0m\u001b[1;33m(\u001b[0m\u001b[0mlist2\u001b[0m\u001b[1;33m)\u001b[0m\u001b[1;33m;\u001b[0m\u001b[1;33m\u001b[0m\u001b[1;33m\u001b[0m\u001b[0m\n\u001b[1;32m---> 11\u001b[1;33m \u001b[0mprint\u001b[0m\u001b[1;33m(\u001b[0m\u001b[0mlist1\u001b[0m\u001b[1;33m+\u001b[0m\u001b[0mlist2\u001b[0m\u001b[1;33m)\u001b[0m\u001b[1;33m;\u001b[0m\u001b[1;33m\u001b[0m\u001b[1;33m\u001b[0m\u001b[0m\n\u001b[0m",
      "\u001b[1;31mTypeError\u001b[0m: can only concatenate str (not \"list\") to str"
     ]
    }
   ],
   "source": [
    "list1=[\"Arvind\",\"Anush\",\"Nitin\",\"Rishi\"]\n",
    "print(list1);\n",
    "list1[2]=15;\n",
    "print(list1);\n",
    "del list1[3];\n",
    "print(list1);\n",
    "list1=\"GITAM\";\n",
    "print(list1);\n",
    "list2=[1,2,3];\n",
    "print(list2);\n",
    "print(list1+list2);"
   ]
  },
  {
   "cell_type": "code",
   "execution_count": 50,
   "metadata": {},
   "outputs": [
    {
     "name": "stdout",
     "output_type": "stream",
     "text": [
      "[1, 2, 3, 4, 5]\n",
      "[1, 2, 4, 5]\n",
      "4\n",
      "[1, 15, 4, 5, 15]\n"
     ]
    }
   ],
   "source": [
    "list1=[1,2,3,4,5]\n",
    "print(list1);\n",
    "del list1[2];\n",
    "print(list1);\n",
    "list1[1]=15;\n",
    "print(len(list1));\n",
    "list1.append(15);\n",
    "print(list1);"
   ]
  },
  {
   "cell_type": "code",
   "execution_count": 54,
   "metadata": {},
   "outputs": [
    {
     "name": "stdout",
     "output_type": "stream",
     "text": [
      "['GITAM', 'PYTHON', 'RAPTOR', 1, 5, 'PYTHON']\n",
      "['GITAM', 'PYTHON', 2019, 'RAPTOR', 1, 5, 'PYTHON']\n",
      "7\n",
      "['GITAM', 'PYTHON', 2019, 'RAPTOR', 2020, 1, 5, 'PYTHON']\n",
      "['PYTHON', 5, 1, 2020, 'RAPTOR', 2019, 'PYTHON', 'GITAM']\n"
     ]
    }
   ],
   "source": [
    "list1=[\"GITAM\",\"PYTHON\",\"RAPTOR\",1,5,\"PYTHON\"]\n",
    "print(list1);\n",
    "list1.index(\"PYTHON\")\n",
    "list1.index(1)\n",
    "list1.insert(2,2019)\n",
    "print(list1)\n",
    "print(len(list1))\n",
    "list1.insert(4,2020)\n",
    "print(list1)\n",
    "\n",
    "list1.reverse()\n",
    "print(list1)"
   ]
  },
  {
   "cell_type": "code",
   "execution_count": 66,
   "metadata": {},
   "outputs": [
    {
     "name": "stdout",
     "output_type": "stream",
     "text": [
      "target iteam is not found\n"
     ]
    }
   ],
   "source": [
    "def linearsearch(a,tariteam):\n",
    "    flag=0;\n",
    "    for i in range(len(a)):\n",
    "        if a[i]==tariteam:\n",
    "            flag=1;\n",
    "        break\n",
    "    if(flag!=0):\n",
    "             print(\"target iteam is found\");\n",
    "    else:\n",
    "            print(\"target iteam is not found\");\n",
    "a=[16,2,12,6,9,7,1]\n",
    "linearsearch(a,61)"
   ]
  },
  {
   "cell_type": "code",
   "execution_count": 61,
   "metadata": {},
   "outputs": [
    {
     "name": "stdout",
     "output_type": "stream",
     "text": [
      "1\n"
     ]
    }
   ],
   "source": [
    "def linearsearchDuplicate(a,tariteam):\n",
    "    flag=0;\n",
    "    for i in range(len(a)):\n",
    "        if a[i]==tariteam:\n",
    "            flag=flag+1;\n",
    "        \n",
    "    print(flag)\n",
    "a=[16,2,12,6,9,7,1]\n",
    "linearsearchDuplicate(a,9)\n",
    "    "
   ]
  },
  {
   "cell_type": "code",
   "execution_count": 68,
   "metadata": {},
   "outputs": [
    {
     "data": {
      "text/plain": [
       "58"
      ]
     },
     "execution_count": 68,
     "metadata": {},
     "output_type": "execute_result"
    }
   ],
   "source": [
    "def linearExample1(a,tariteam):\n",
    "    sum=0;\n",
    "    for i in range(len(a)):\n",
    "      sum=sum+a[i]\n",
    "    return sum\n",
    "a=[1,5,9,6,5,15,12,5]\n",
    "linearExample1(a,5)# 1 4 7"
   ]
  },
  {
   "cell_type": "code",
   "execution_count": null,
   "metadata": {},
   "outputs": [],
   "source": [
    "def linearformattedoutput(a):\n",
    "    for i in (len(a)):\n",
    "        "
   ]
  }
 ],
 "metadata": {
  "kernelspec": {
   "display_name": "Python 3",
   "language": "python",
   "name": "python3"
  },
  "language_info": {
   "codemirror_mode": {
    "name": "ipython",
    "version": 3
   },
   "file_extension": ".py",
   "mimetype": "text/x-python",
   "name": "python",
   "nbconvert_exporter": "python",
   "pygments_lexer": "ipython3",
   "version": "3.7.3"
  }
 },
 "nbformat": 4,
 "nbformat_minor": 2
}
