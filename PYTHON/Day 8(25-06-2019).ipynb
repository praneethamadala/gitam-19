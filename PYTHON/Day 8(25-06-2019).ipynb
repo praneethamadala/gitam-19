{
 "cells": [
  {
   "cell_type": "markdown",
   "metadata": {},
   "source": [
    "## Data structures;\n",
    "\n",
    "## binary search algo\n",
    "\n",
    "## can be applied only on sorted list\n",
    "## can be applied only on unique list"
   ]
  },
  {
   "cell_type": "code",
   "execution_count": 4,
   "metadata": {},
   "outputs": [
    {
     "name": "stdout",
     "output_type": "stream",
     "text": [
      "item is not found\n"
     ]
    }
   ],
   "source": [
    "def binarySearch(a,lIndex,rIndex,tarItem):\n",
    "    while lIndex <= rIndex:\n",
    "        mIndex=lIndex + (rIndex-lIndex)//2;\n",
    "        if a[mIndex] == tarItem:\n",
    "            return mIndex\n",
    "        if a[mIndex] > tarItem:\n",
    "            rIndex = mIndex - 1\n",
    "        else:\n",
    "            lIndex = mIndex + 1\n",
    "    return -1\n",
    "list1 = [1,4,9,15,25,45,57,88,98]\n",
    "res = binarySearch(list1,0,8,588)\n",
    "if res != -1:\n",
    "    print(\"item is found\")\n",
    "else:\n",
    "    print(\"item is not found\")"
   ]
  },
  {
   "cell_type": "markdown",
   "metadata": {},
   "source": [
    " ## Bubble sort\n",
    " \n",
    " It compares the adj items,if the first item is greater than \n",
    " the second item then there would required of swap the items\n",
    " \n",
    " the complex -n*n"
   ]
  },
  {
   "cell_type": "code",
   "execution_count": 11,
   "metadata": {},
   "outputs": [
    {
     "name": "stdout",
     "output_type": "stream",
     "text": [
      "11 34 68 89 92 "
     ]
    }
   ],
   "source": [
    "def bubbleSort(a):\n",
    "    for i in range(len(a)-1):\n",
    "        for j in range(len(a)-1):\n",
    "            if a[j] > a[j+1]:\n",
    "                a[j],a[j+1] = a[j+1],a[j]\n",
    "                \n",
    "    for i in range(len(a)):\n",
    "        print(a[i],end=\" \")\n",
    "        \n",
    "lst1 =[11,92,34,89,68]\n",
    "bubbleSort(lst1)"
   ]
  },
  {
   "cell_type": "markdown",
   "metadata": {},
   "source": [
    "## strings in python\n",
    "\n",
    " A string is a sequence of characters <br>\n",
    " \n",
    " The conversion of characters to a number is happens with\n",
    " ASCII number\n",
    " \n",
    " ASCII Numbers:<br>\n",
    " \n",
    " A-Z ---------- 65-90 \n",
    " \n",
    " a-z ----------97-122\n",
    " \n",
    " 0-9 ----------48-57"
   ]
  },
  {
   "cell_type": "code",
   "execution_count": 14,
   "metadata": {},
   "outputs": [
    {
     "name": "stdout",
     "output_type": "stream",
     "text": [
      "Application\n",
      "Application\n",
      "Application Test\n",
      "      working\n",
      "      completed\n",
      "      list\n",
      "      strings\n",
      "      python\n"
     ]
    }
   ],
   "source": [
    "## creating a string\n",
    "str=\"Application\"\n",
    "print(str)\n",
    "\n",
    "str1='Application'\n",
    "print(str1)\n",
    "\n",
    "str2=\"\"\"Application Test\n",
    "      working\n",
    "      completed\n",
    "      list\n",
    "      strings\n",
    "      python\"\"\"\n",
    "print(str2)"
   ]
  },
  {
   "cell_type": "code",
   "execution_count": 15,
   "metadata": {},
   "outputs": [
    {
     "name": "stdout",
     "output_type": "stream",
     "text": [
      "Application\n",
      "str[0] = A\n",
      "str[1] = p\n",
      "str[-1] = n\n",
      "str[-3] = i\n",
      "str[1:5] = ppli\n",
      "str[:5]  = Appli\n",
      "str[5:-2]= cati\n",
      "str[::-2] = niaipA\n"
     ]
    }
   ],
   "source": [
    "str=\"Application\"\n",
    "print(str)\n",
    "print(\"str[0] =\",str[0])\n",
    "print(\"str[1] =\",str[1])\n",
    "print(\"str[-1] =\",str[-1])\n",
    "print(\"str[-3] =\",str[-3])\n",
    "print(\"str[1:5] =\",str[1:5])\n",
    "print(\"str[:5]  =\",str[:5])\n",
    "print(\"str[5:-2]=\",str[5:-2])\n",
    "print(\"str[::-2] =\",str[::-2])"
   ]
  },
  {
   "cell_type": "markdown",
   "metadata": {},
   "source": [
    "## Palindrome of string"
   ]
  },
  {
   "cell_type": "code",
   "execution_count": 19,
   "metadata": {},
   "outputs": [
    {
     "name": "stdout",
     "output_type": "stream",
     "text": [
      "False\n",
      "True\n"
     ]
    }
   ],
   "source": [
    "def isPalindrome(s):\n",
    "    if s == s[::-1]:\n",
    "        return True\n",
    "    else:\n",
    "        return False\n",
    "    \n",
    "    \n",
    "print(isPalindrome(\"python\"))\n",
    "print(isPalindrome(\"jalaj\"))"
   ]
  },
  {
   "cell_type": "code",
   "execution_count": 25,
   "metadata": {},
   "outputs": [
    {
     "data": {
      "text/plain": [
       "5"
      ]
     },
     "execution_count": 25,
     "metadata": {},
     "output_type": "execute_result"
    }
   ],
   "source": [
    "def countDigits(n):\n",
    "    return len(n)\n",
    "countDigits('12345')"
   ]
  },
  {
   "cell_type": "markdown",
   "metadata": {},
   "source": [
    "## string examples"
   ]
  },
  {
   "cell_type": "code",
   "execution_count": 39,
   "metadata": {},
   "outputs": [
    {
     "data": {
      "text/plain": [
       "6"
      ]
     },
     "execution_count": 39,
     "metadata": {},
     "output_type": "execute_result"
    }
   ],
   "source": [
    "# ord() is a predefined function in python which gives the unique values(ASCII) of a string\n",
    "\n",
    "\n",
    "def countuppercase(string):\n",
    "    count = 0\n",
    "    \n",
    "    lst = list(string)\n",
    "    for x in range (len(lst)):\n",
    "        if ord(lst[x]) >= 65 and ord(lst[x]) <= 90:\n",
    "            count += 1\n",
    "            \n",
    "    \n",
    "    \n",
    "    return count\n",
    "countuppercase('PranEethAAAA')"
   ]
  },
  {
   "cell_type": "markdown",
   "metadata": {},
   "source": [
    "## print of digits in a string\n",
    "\n",
    "Test cases:\n",
    "\n",
    "Application1889 -- 1889\n",
    "\n",
    "Te1520st --1520"
   ]
  },
  {
   "cell_type": "code",
   "execution_count": 50,
   "metadata": {},
   "outputs": [
    {
     "name": "stdout",
     "output_type": "stream",
     "text": [
      "1889"
     ]
    }
   ],
   "source": [
    "def printdigits(str):\n",
    "    lst=list(str)\n",
    "    for x in range(len(lst)):\n",
    "        if ord(lst[x])>=48 and ord(lst[x])<=57:\n",
    "            print(lst[x],end='')\n",
    "    \n",
    "(printdigits(\"Application1889\")) # 1889"
   ]
  },
  {
   "cell_type": "markdown",
   "metadata": {},
   "source": [
    "## you need to add the digits in the given string\n",
    "\n",
    "Test cases:\n",
    "\n",
    "Application1889 ---16\n",
    "\n",
    "Te1591st ---0\n",
    "\n",
    "Wor7852king --10"
   ]
  },
  {
   "cell_type": "code",
   "execution_count": 52,
   "metadata": {},
   "outputs": [
    {
     "name": "stdout",
     "output_type": "stream",
     "text": [
      "16\n",
      "4\n"
     ]
    }
   ],
   "source": [
    "def sumonlyevendigits(str):\n",
    "    sum=0\n",
    "    lst=list(str)\n",
    "    for x in range(len(lst)):\n",
    "        if ord(lst[x]) >=48 and ord(lst[x]) <=57:\n",
    "            ac=ord(lst[x]) -48\n",
    "            if(ac%2==0):\n",
    "                sum=sum+ac\n",
    "    return sum\n",
    "\n",
    "print(sumonlyevendigits(\"Application1889\"))\n",
    "print(sumonlyevendigits(\"Te1574st\"))"
   ]
  },
  {
   "cell_type": "markdown",
   "metadata": {},
   "source": [
    "## string character conversion\n",
    "\n",
    "If the input character is upper case character and then convert to lower case\n",
    "\n",
    "If the input character is lower case character and then convert to upper case"
   ]
  },
  {
   "cell_type": "code",
   "execution_count": null,
   "metadata": {},
   "outputs": [],
   "source": []
  }
 ],
 "metadata": {
  "kernelspec": {
   "display_name": "Python 3",
   "language": "python",
   "name": "python3"
  },
  "language_info": {
   "codemirror_mode": {
    "name": "ipython",
    "version": 3
   },
   "file_extension": ".py",
   "mimetype": "text/x-python",
   "name": "python",
   "nbconvert_exporter": "python",
   "pygments_lexer": "ipython3",
   "version": "3.7.3"
  }
 },
 "nbformat": 4,
 "nbformat_minor": 2
}
