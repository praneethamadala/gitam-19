{
 "cells": [
  {
   "cell_type": "markdown",
   "metadata": {},
   "source": [
    "## control flow statements"
   ]
  },
  {
   "cell_type": "markdown",
   "metadata": {},
   "source": [
    "## if condition\n",
    "\n",
    "if(condition):\n",
    "set of statements"
   ]
  },
  {
   "cell_type": "code",
   "execution_count": 1,
   "metadata": {},
   "outputs": [],
   "source": [
    "x=10;\n",
    "if(x<15):\n",
    "  print(\"the number is less than 15\");"
   ]
  },
  {
   "cell_type": "code",
   "execution_count": 2,
   "metadata": {},
   "outputs": [],
   "source": [
    "x=10;\n",
    "if(x>15):\n",
    "    print(\"hello\");"
   ]
  },
  {
   "cell_type": "code",
   "execution_count": null,
   "metadata": {},
   "outputs": [],
   "source": []
  },
  {
   "cell_type": "code",
   "execution_count": 3,
   "metadata": {},
   "outputs": [
    {
     "name": "stdout",
     "output_type": "stream",
     "text": [
      "Hello good afternoon\n"
     ]
    }
   ],
   "source": [
    "x=10;\n",
    "if(x>15):\n",
    "  print(\"Hello good morning\");\n",
    "else:\n",
    "  print(\"Hello good afternoon\");"
   ]
  },
  {
   "cell_type": "markdown",
   "metadata": {},
   "source": [
    "\n",
    "x=5;\n",
    "y=4;\n",
    "if(x>y):\n",
    "    print(\"x is largest number\"); \n",
    "else:\n",
    "    print(\"y is largest number\");"
   ]
  },
  {
   "cell_type": "markdown",
   "metadata": {},
   "source": [
    "## Example 5:\n",
    "### Need to two numbers as input if both the numbers are same then output must be square of first number if not the output must be multiplication of both numbers\n"
   ]
  },
  {
   "cell_type": "code",
   "execution_count": 4,
   "metadata": {},
   "outputs": [
    {
     "name": "stdout",
     "output_type": "stream",
     "text": [
      "100\n"
     ]
    }
   ],
   "source": [
    "\n",
    "x=10\n",
    "y=10\n",
    "if(x!=y):\n",
    "    z=x*y\n",
    "    print(z)\n",
    "else:\n",
    "    z=x**2\n",
    "    print(z)"
   ]
  },
  {
   "cell_type": "markdown",
   "metadata": {},
   "source": [
    "## Example6:\n",
    "\n",
    "## only one number as input and we looking for whether given number is zero ,negative or positive number"
   ]
  },
  {
   "cell_type": "code",
   "execution_count": 5,
   "metadata": {},
   "outputs": [
    {
     "name": "stdout",
     "output_type": "stream",
     "text": [
      "it's negative number\n"
     ]
    }
   ],
   "source": [
    "x=-10;\n",
    "if(x<0):\n",
    "    print(\"it's negative number\");\n",
    "elif(x>0):\n",
    "    print(\"it's positive number\");\n",
    "elif(x==0):\n",
    "    print(\"it's zero\");"
   ]
  },
  {
   "cell_type": "markdown",
   "metadata": {},
   "source": [
    "## loop statement -- while\n",
    "   ## example 1:"
   ]
  },
  {
   "cell_type": "code",
   "execution_count": 6,
   "metadata": {},
   "outputs": [
    {
     "name": "stdout",
     "output_type": "stream",
     "text": [
      "1\n",
      "2\n",
      "3\n",
      "4\n",
      "5\n",
      "6\n",
      "7\n",
      "8\n",
      "9\n",
      "10\n"
     ]
    }
   ],
   "source": [
    "n=1\n",
    "while(n<=10):\n",
    "    print(n)\n",
    "    n = n + 1"
   ]
  },
  {
   "cell_type": "markdown",
   "metadata": {},
   "source": [
    "## example 2:\n",
    "## print the numbers from 10 to 1"
   ]
  },
  {
   "cell_type": "code",
   "execution_count": 7,
   "metadata": {},
   "outputs": [
    {
     "name": "stdout",
     "output_type": "stream",
     "text": [
      "10\n",
      "9\n",
      "8\n",
      "7\n",
      "6\n",
      "5\n",
      "4\n",
      "3\n",
      "2\n",
      "1\n"
     ]
    }
   ],
   "source": [
    "n=10\n",
    "while(n>=1):\n",
    "    print(n)\n",
    "    n = n - 1"
   ]
  },
  {
   "cell_type": "markdown",
   "metadata": {},
   "source": [
    "## example 3:\n",
    "## print the numbers from -22 to -45"
   ]
  },
  {
   "cell_type": "code",
   "execution_count": 8,
   "metadata": {},
   "outputs": [
    {
     "name": "stdout",
     "output_type": "stream",
     "text": [
      "-22\n",
      "-23\n",
      "-24\n",
      "-25\n",
      "-26\n",
      "-27\n",
      "-28\n",
      "-29\n",
      "-30\n",
      "-31\n",
      "-32\n",
      "-33\n",
      "-34\n",
      "-35\n",
      "-36\n",
      "-37\n",
      "-38\n",
      "-39\n",
      "-40\n",
      "-41\n",
      "-42\n",
      "-43\n",
      "-44\n",
      "-45\n"
     ]
    }
   ],
   "source": [
    "n=-22\n",
    "while(n>=-45):\n",
    "    print(n)\n",
    "    n = n - 1"
   ]
  },
  {
   "cell_type": "markdown",
   "metadata": {},
   "source": [
    "## example 4:\n",
    "## print the sum of even numbers b/w 1 to 100"
   ]
  },
  {
   "cell_type": "code",
   "execution_count": null,
   "metadata": {},
   "outputs": [
    {
     "name": "stdout",
     "output_type": "stream",
     "text": [
      "Enter Lower limit1\n",
      "Enter upper limit100\n",
      "2450\n"
     ]
    }
   ],
   "source": [
    "x=int(input(\"Enter Lower limit\"));\n",
    "y=int(input(\"Enter upper limit\"));\n",
    "sum=0;\n",
    "while(x!=y):\n",
    "  if(x%2==0):\n",
    "    sum=sum+x;\n",
    "  x=x+1;\n",
    "\n",
    "print(sum);"
   ]
  },
  {
   "cell_type": "markdown",
   "metadata": {},
   "source": [
    "## example 5:\n",
    "# input: number\n",
    "## output: extract the digits of the number from right side direction\n",
    "## Test case:  145    --  5 4 1\n",
    " #                    1889 -- 9 8 8 1"
   ]
  },
  {
   "cell_type": "code",
   "execution_count": null,
   "metadata": {},
   "outputs": [
    {
     "name": "stdout",
     "output_type": "stream",
     "text": [
      "enter a number1889\n",
      "9\n",
      "8\n",
      "8\n",
      "1\n"
     ]
    }
   ],
   "source": [
    "x=int(input(\"enter a number\"));\n",
    "while(x!=0):\n",
    "    r=x%10;\n",
    "    print(r);\n",
    "    x=x//10;"
   ]
  },
  {
   "cell_type": "markdown",
   "metadata": {},
   "source": [
    "## input:number\n",
    "## output:you need add the sum of even numbers \n",
    "## test cases: 145   ---  4\n",
    "##                     1889 -- 16\n",
    "#                    1951--0\n",
    "#                     1235--2"
   ]
  },
  {
   "cell_type": "code",
   "execution_count": null,
   "metadata": {},
   "outputs": [
    {
     "name": "stdout",
     "output_type": "stream",
     "text": [
      "Enter a number1235\n",
      "2\n"
     ]
    }
   ],
   "source": [
    "x=int(input(\"Enter a number\"));\n",
    "sum=0;\n",
    "while(x!=0):\n",
    "   r=x%10;\n",
    "   if(r%2==0):\n",
    "     sum=sum+r;\n",
    "   x=x//10;\n",
    "\n",
    "print(sum);"
   ]
  },
  {
   "cell_type": "markdown",
   "metadata": {},
   "source": [
    "## input:number\n",
    "## output:respective name to digit\n",
    "## Test cases: 145 --five four one\n",
    "##                     1889 --nine eight eight one\n",
    "##                      120 --zero two one"
   ]
  },
  {
   "cell_type": "code",
   "execution_count": 2,
   "metadata": {},
   "outputs": [
    {
     "name": "stdout",
     "output_type": "stream",
     "text": [
      "Enter a number12\n",
      "two\n",
      "one\n"
     ]
    }
   ],
   "source": [
    "x=int(input(\"Enter a number\"));\n",
    "while(x!=0):\n",
    "    r=x%10;\n",
    "    if(r==1):\n",
    "        print(\"one\");\n",
    "    elif(r==2):\n",
    "        print(\"two\");\n",
    "    x=x//10;\n",
    "    "
   ]
  },
  {
   "cell_type": "markdown",
   "metadata": {},
   "source": [
    "## example 8:\n",
    "## input: three numbers\n",
    "## output: how many time the digit is repeated b/w 2nd and 3rd numbers\n",
    "## Test cases: 6,60,65  --- 5\n",
    "##                      7,70,88 --- 12\n",
    "##                      2,120,220 --42"
   ]
  },
  {
   "cell_type": "markdown",
   "metadata": {},
   "source": [
    "x=int(input(\"enter number\"));\n",
    "l1=int(input(\"enter lower limit\"));\n",
    "l2=int(input(\"enter upper limit\"));\n",
    "\n",
    "count=0;\n",
    "\n",
    "while(l1!=l2):\n",
    "    buffer=l1;\n",
    "    while(l1!=0):\n",
    "      r=l1%10;\n",
    "    if(r==digit):\n",
    "        count=count+1;\n",
    "    l1=l1//10;\n",
    "l1=buffer;\n",
    "l1=l1+1;\n",
    "    \n",
    "print(count);\n",
    "\n",
    "\n",
    "\n",
    "count=0;\n",
    "\n"
   ]
  },
  {
   "cell_type": "markdown",
   "metadata": {},
   "source": [
    "## Functional program in python"
   ]
  },
  {
   "cell_type": "code",
   "execution_count": null,
   "metadata": {},
   "outputs": [],
   "source": [
    "def countOfpalindromes(n1,n2):\n",
    "    count=0;\n",
    "    \n",
    "\n",
    "    \n",
    "    \n",
    "    \n",
    "    return count;\n",
    "\n",
    "printf(countOfpalindromes(10,30));"
   ]
  }
 ],
 "metadata": {
  "kernelspec": {
   "display_name": "Python 3",
   "language": "python",
   "name": "python3"
  },
  "language_info": {
   "codemirror_mode": {
    "name": "ipython",
    "version": 3
   },
   "file_extension": ".py",
   "mimetype": "text/x-python",
   "name": "python",
   "nbconvert_exporter": "python",
   "pygments_lexer": "ipython3",
   "version": "3.7.3"
  }
 },
 "nbformat": 4,
 "nbformat_minor": 2
}
